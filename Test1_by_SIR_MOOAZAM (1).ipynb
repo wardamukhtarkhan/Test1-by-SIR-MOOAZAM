{
  "nbformat": 4,
  "nbformat_minor": 0,
  "metadata": {
    "colab": {
      "name": "Test1 by  SIR MOOAZAM",
      "provenance": []
    },
    "kernelspec": {
      "name": "python3",
      "display_name": "Python 3"
    },
    "language_info": {
      "name": "python"
    }
  },
  "cells": [
    {
      "cell_type": "code",
      "execution_count": 12,
      "metadata": {
        "colab": {
          "base_uri": "https://localhost:8080/"
        },
        "id": "yosEtXOEa33c",
        "outputId": "f54a9371-8b87-45e5-c797-ac481fef7aa9"
      },
      "outputs": [
        {
          "output_type": "stream",
          "name": "stdout",
          "text": [
            "[1, 3, 5, 7, 9]\n"
          ]
        }
      ],
      "source": [
        "#Q1 python program to print all odd numbers in list\n",
        "list1 = [ 1,2,3,4,5,6,7,8,9,10]\n",
        "final=[]\n",
        "for i in range(len(list1)):\n",
        "  if i%2!=0:\n",
        "    final.append(i)\n",
        "  else:\n",
        "    pass\n",
        "\n",
        "print(final)"
      ]
    },
    {
      "cell_type": "code",
      "source": [
        "#Q2 python program to find the sum of list elements\n",
        "list1 = [1,2,3,5,6]\n",
        "var = sum(list1)\n",
        "print(var)"
      ],
      "metadata": {
        "colab": {
          "base_uri": "https://localhost:8080/"
        },
        "id": "p-sMZqUfcZBq",
        "outputId": "0b7cae27-a7db-40cf-a4da-714159dded7f"
      },
      "execution_count": 19,
      "outputs": [
        {
          "output_type": "stream",
          "name": "stdout",
          "text": [
            "17\n"
          ]
        }
      ]
    },
    {
      "cell_type": "code",
      "source": [
        "#Q3 python program to reverse a list in two ways\n",
        "names = ['ali', 'faraz','ahmed','danish']\n",
        "names.reverse()\n",
        "print(names)\n",
        "names[-1: : -1]\n",
        "print(names)"
      ],
      "metadata": {
        "colab": {
          "base_uri": "https://localhost:8080/"
        },
        "id": "uO1lwCAVclZB",
        "outputId": "cd6e39f0-421b-4d58-e371-a38721487d3d"
      },
      "execution_count": 17,
      "outputs": [
        {
          "output_type": "stream",
          "name": "stdout",
          "text": [
            "['danish', 'ahmed', 'faraz', 'ali']\n",
            "['danish', 'ahmed', 'faraz', 'ali']\n"
          ]
        }
      ]
    },
    {
      "cell_type": "code",
      "source": [
        "#Q4 python program to find the top two maximum numbers in a list\n",
        "list1 = [30,40,50,10,20]\n",
        "list1.sort()\n",
        "print(list1[-1])\n",
        "print(list1[-2])\n"
      ],
      "metadata": {
        "id": "ZqYS6pzjcxTB",
        "colab": {
          "base_uri": "https://localhost:8080/"
        },
        "outputId": "d660c75b-e0f7-48dc-c13a-5ffa5a57780d"
      },
      "execution_count": 15,
      "outputs": [
        {
          "output_type": "stream",
          "name": "stdout",
          "text": [
            "50\n",
            "40\n"
          ]
        }
      ]
    },
    {
      "cell_type": "code",
      "source": [
        "#Q5 write a program in python to find the second highest number in an integer list\n",
        "list1 = [60,40,100,50,10]\n",
        "list1.sort()\n",
        "print(list1[-2])\n",
        "\n",
        "\n"
      ],
      "metadata": {
        "id": "TdfCeJzyje4L",
        "colab": {
          "base_uri": "https://localhost:8080/"
        },
        "outputId": "7e6349b3-2630-4c19-ccc6-3febba5d630b"
      },
      "execution_count": 20,
      "outputs": [
        {
          "output_type": "stream",
          "name": "stdout",
          "text": [
            "60\n"
          ]
        }
      ]
    },
    {
      "cell_type": "code",
      "source": [
        "#Q6 python program to sort characters in decending order\n",
        "names = ['ali','faraz','kamran','ahmed','hamza']\n",
        "#print(names.sort(reverse= True))\n",
        "names.sort()\n",
        "print(names)\n",
        "names.sort(reverse= True)\n",
        "print(names)"
      ],
      "metadata": {
        "colab": {
          "base_uri": "https://localhost:8080/"
        },
        "id": "4o9bR7jJjy5S",
        "outputId": "8b40c2da-8cf3-47e3-9d3b-5fb177216dd7"
      },
      "execution_count": null,
      "outputs": [
        {
          "output_type": "stream",
          "name": "stdout",
          "text": [
            "['ahmed', 'ali', 'faraz', 'hamza', 'kamran']\n",
            "['kamran', 'hamza', 'faraz', 'ali', 'ahmed']\n"
          ]
        }
      ]
    },
    {
      "cell_type": "code",
      "source": [
        "#Q7 python program to remove repeated characters from a string\n",
        "name = input('enter any name:')\n",
        "\n",
        "new_list = []\n",
        "for a in name:\n",
        "  if a not in new_list:\n",
        "    new_list.append(a)\n",
        "print(new_list)"
      ],
      "metadata": {
        "id": "JLh9CjmGmmWQ",
        "colab": {
          "base_uri": "https://localhost:8080/"
        },
        "outputId": "e2a38e0c-0185-4629-c235-a3c0a68e7104"
      },
      "execution_count": 13,
      "outputs": [
        {
          "output_type": "stream",
          "name": "stdout",
          "text": [
            "enter any name:hassan\n",
            "['h', 'a', 's', 'n']\n"
          ]
        }
      ]
    },
    {
      "cell_type": "code",
      "source": [
        "#Q8 python program to check if a given character is a vowel or consonant\n",
        "\n",
        "l = input(\"Input a letter of the alphabet: \")\n",
        "\n",
        "if l in ('a', 'e', 'i', 'o', 'u'):\n",
        "\tprint(l,\"is a vowel.\")\n",
        "else:\n",
        "\tprint(l,\"is a consonant.\")"
      ],
      "metadata": {
        "colab": {
          "base_uri": "https://localhost:8080/"
        },
        "id": "bEHDLb0iuKag",
        "outputId": "30ad569c-a7f5-4b84-cf01-fd64c78693de"
      },
      "execution_count": 14,
      "outputs": [
        {
          "output_type": "stream",
          "name": "stdout",
          "text": [
            "Input a letter of the alphabet: r\n",
            "r is a consonant.\n"
          ]
        }
      ]
    },
    {
      "cell_type": "code",
      "source": [
        "#Q9 python program to calculate factorial\n",
        "\n",
        "num = int(input('enter any number '))\n",
        "factorial = 1\n",
        "\n",
        "if num < 0:\n",
        "   print(\"Sorry, factorial does not exist for negative numbers\")\n",
        "elif num == 0:\n",
        "   print(\"The factorial of 0 is 1\")\n",
        "else:\n",
        "   for i in range(1,num + 1):\n",
        "       factorial = factorial*i\n",
        "   print(\"The factorial of\",num,\"is\",factorial)"
      ],
      "metadata": {
        "colab": {
          "base_uri": "https://localhost:8080/"
        },
        "id": "vyPsB_o74-y0",
        "outputId": "8be41fe4-e6ad-46e1-81cd-55d2a96de03f"
      },
      "execution_count": 8,
      "outputs": [
        {
          "output_type": "stream",
          "name": "stdout",
          "text": [
            "enter any number 4\n",
            "The factorial of 4 is 24\n"
          ]
        }
      ]
    },
    {
      "cell_type": "code",
      "source": [
        "#Q10 python program to merge two lists\n",
        "list1 = [1,2,3,4,5]\n",
        "list2 = [6,7,8,9,10]\n",
        "list3 = list1+list2\n",
        "print(list3)"
      ],
      "metadata": {
        "colab": {
          "base_uri": "https://localhost:8080/"
        },
        "id": "_yBSUjYiygOz",
        "outputId": "09ae63e9-d215-4714-abd7-5945de7f7132"
      },
      "execution_count": null,
      "outputs": [
        {
          "output_type": "stream",
          "name": "stdout",
          "text": [
            "[1, 2, 3, 4, 5, 6, 7, 8, 9, 10]\n"
          ]
        }
      ]
    }
  ]
}